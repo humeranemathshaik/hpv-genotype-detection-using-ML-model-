{
 "cells": [
  {
   "cell_type": "code",
   "execution_count": 40,
   "id": "0a57310d-eead-4c5d-b2b3-b5044ebd51d4",
   "metadata": {},
   "outputs": [],
   "source": [
    "import pandas as pd\n",
    "from sklearn.model_selection import train_test_split\n",
    "from sklearn.preprocessing import LabelEncoder, StandardScaler\n",
    "from imblearn.over_sampling import SMOTE\n",
    "from sklearn.ensemble import RandomForestClassifier, GradientBoostingClassifier\n",
    "from sklearn.neural_network import MLPClassifier\n",
    "from sklearn.metrics import accuracy_score, classification_report\n"
   ]
  },
  {
   "cell_type": "code",
   "execution_count": 42,
   "id": "b885bb16-1b26-47de-8ecb-4cf32f51a625",
   "metadata": {},
   "outputs": [],
   "source": [
    "# Load the dataset\n",
    "file_path = r\"C:\\Users\\COMPAQ\\Downloads\\3 master sheet.csv\"\n",
    "df = pd.read_csv(file_path)\n"
   ]
  },
  {
   "cell_type": "code",
   "execution_count": 44,
   "id": "b5f3782a-0eca-47c2-aa0f-bd8d03ea7c85",
   "metadata": {},
   "outputs": [],
   "source": [
    "# Data Cleaning: Remove invalid age entries and convert to numeric\n",
    "df = df[df[\"Age\"] != \"-\"]  # Remove invalid age values\n",
    "df[\"Age\"] = df[\"Age\"].astype(int)  # Convert Age to integer\n"
   ]
  },
  {
   "cell_type": "code",
   "execution_count": 46,
   "id": "631b9ed9-0e90-4ed2-a350-5b424e206a45",
   "metadata": {},
   "outputs": [],
   "source": [
    "# Encode categorical variables\n",
    "label_encoders = {}\n",
    "for col in [\"pap results\", \"microprganisms present\", \"OHR GENOTYPE\"]:\n",
    "    le = LabelEncoder()\n",
    "    df[col] = le.fit_transform(df[col])\n",
    "    label_encoders[col] = le"
   ]
  },
  {
   "cell_type": "code",
   "execution_count": 48,
   "id": "3b0fd535-e655-43bd-93dd-fdc72be8b118",
   "metadata": {},
   "outputs": [],
   "source": [
    "# Load the dataset\n",
    "file_path = r\"C:\\Users\\COMPAQ\\Downloads\\3 master sheet.csv\"\n",
    "df = pd.read_csv(file_path)\n",
    "# Define features (X) and target (y)\n",
    "X = df[[\"Age\", \"pap results\", \"microprganisms present\"]]\n",
    "y = df[\"OHR GENOTYPE\"]\n"
   ]
  },
  {
   "cell_type": "code",
   "execution_count": 50,
   "id": "0f3b443d-0e9b-495c-b869-b62834e4d180",
   "metadata": {},
   "outputs": [
    {
     "name": "stdout",
     "output_type": "stream",
     "text": [
      "Requirement already satisfied: imbalanced-learn in c:\\users\\compaq\\anaconda3\\lib\\site-packages (0.12.3)\n",
      "Requirement already satisfied: numpy>=1.17.3 in c:\\users\\compaq\\anaconda3\\lib\\site-packages (from imbalanced-learn) (1.26.4)\n",
      "Requirement already satisfied: scipy>=1.5.0 in c:\\users\\compaq\\anaconda3\\lib\\site-packages (from imbalanced-learn) (1.13.1)\n",
      "Requirement already satisfied: scikit-learn>=1.0.2 in c:\\users\\compaq\\anaconda3\\lib\\site-packages (from imbalanced-learn) (1.5.1)\n",
      "Requirement already satisfied: joblib>=1.1.1 in c:\\users\\compaq\\anaconda3\\lib\\site-packages (from imbalanced-learn) (1.4.2)\n",
      "Requirement already satisfied: threadpoolctl>=2.0.0 in c:\\users\\compaq\\anaconda3\\lib\\site-packages (from imbalanced-learn) (3.5.0)\n",
      "Note: you may need to restart the kernel to use updated packages.\n"
     ]
    }
   ],
   "source": [
    "pip install imbalanced-learn"
   ]
  },
  {
   "cell_type": "code",
   "execution_count": 51,
   "id": "b9385c21-20f2-4342-903f-00da0fb75023",
   "metadata": {},
   "outputs": [],
   "source": [
    "# Define features (X) and target (y)\n",
    "X = df[[\"Age\", \"pap results\", \"microprganisms present\"]]\n",
    "y = df[\"OHR GENOTYPE\"]\n"
   ]
  },
  {
   "cell_type": "code",
   "execution_count": 55,
   "id": "04dc5712-6203-467b-8378-ba8a5c42bd8d",
   "metadata": {},
   "outputs": [],
   "source": [
    "# Import necessary libraries\n",
    "import pandas as pd\n",
    "from imblearn.over_sampling import SMOTE\n",
    "from sklearn.model_selection import train_test_split\n",
    "from sklearn.preprocessing import LabelEncoder\n",
    "\n",
    "# Load the dataset\n",
    "file_path = r\"C:\\Users\\COMPAQ\\Downloads\\3 master sheet.csv\"\n",
    "df = pd.read_csv(file_path)\n",
    "# Define features (X) and target (y)\n",
    "X = df[[\"Age\", \"pap results\", \"microprganisms present\"]]\n",
    "y = df[\"OHR GENOTYPE\"]\n",
    "\n"
   ]
  },
  {
   "cell_type": "code",
   "execution_count": 61,
   "id": "964c4207-4d65-4063-807b-ba398daa1e5f",
   "metadata": {},
   "outputs": [
    {
     "name": "stdout",
     "output_type": "stream",
     "text": [
      "<class 'pandas.core.frame.DataFrame'>\n",
      "RangeIndex: 52 entries, 0 to 51\n",
      "Data columns (total 6 columns):\n",
      " #   Column                  Non-Null Count  Dtype \n",
      "---  ------                  --------------  ----- \n",
      " 0   patient no              52 non-null     int64 \n",
      " 1   Age                     52 non-null     object\n",
      " 2   HPV Type (cobas)        52 non-null     object\n",
      " 3   OHR GENOTYPE            52 non-null     object\n",
      " 4   pap results             52 non-null     object\n",
      " 5   microprganisms present  52 non-null     object\n",
      "dtypes: int64(1), object(5)\n",
      "memory usage: 2.6+ KB\n",
      "Before cleaning:\n",
      " None\n"
     ]
    }
   ],
   "source": [
    "# Import necessary libraries\n",
    "import pandas as pd\n",
    "import numpy as np\n",
    "from imblearn.over_sampling import SMOTE\n",
    "from sklearn.model_selection import train_test_split\n",
    "from sklearn.preprocessing import LabelEncoder\n",
    "\n",
    "\n",
    "data = pd.read_csv(r\"C:\\Users\\COMPAQ\\Downloads\\3 master sheet.csv\")  \n",
    "\n",
    "# Check for non-numeric values\n",
    "print(\"Before cleaning:\\n\", data.info())\n",
    "\n",
    "# Replace '-' or other invalid values with NaN, then fill/drop them\n",
    "data.replace('-', np.nan, inplace=True)\n",
    "data.dropna(inplace=True)  # Drop rows with missing values (or use fillna)\n",
    "\n",
    "# Convert categorical columns to numeric using Label Encoding (if needed)\n",
    "for col in data.select_dtypes(include=['object']).columns:\n",
    "    data[col] = LabelEncoder().fit_transform(data[col])"
   ]
  },
  {
   "cell_type": "code",
   "execution_count": 67,
   "id": "d46c0792-ccbf-4516-9826-85e49dc1e1ab",
   "metadata": {},
   "outputs": [
    {
     "name": "stdout",
     "output_type": "stream",
     "text": [
      "<class 'pandas.core.frame.DataFrame'>\n",
      "RangeIndex: 52 entries, 0 to 51\n",
      "Data columns (total 6 columns):\n",
      " #   Column                  Non-Null Count  Dtype \n",
      "---  ------                  --------------  ----- \n",
      " 0   patient no              52 non-null     int64 \n",
      " 1   Age                     52 non-null     object\n",
      " 2   HPV Type (cobas)        52 non-null     object\n",
      " 3   OHR GENOTYPE            52 non-null     object\n",
      " 4   pap results             52 non-null     object\n",
      " 5   microprganisms present  52 non-null     object\n",
      "dtypes: int64(1), object(5)\n",
      "memory usage: 2.6+ KB\n",
      "Before cleaning:\n",
      " None\n"
     ]
    }
   ],
   "source": [
    "\n",
    "from imblearn.over_sampling import SMOTE\n",
    "from sklearn.model_selection import train_test_split\n",
    "from sklearn.preprocessing import LabelEncoder\n",
    "# Check for non-numeric values\n",
    "print(\"Before cleaning:\\n\", df.info())\n"
   ]
  },
  {
   "cell_type": "code",
   "execution_count": 69,
   "id": "108a667b-803b-4d21-bda5-79a46cee2e2e",
   "metadata": {},
   "outputs": [
    {
     "name": "stdout",
     "output_type": "stream",
     "text": [
      "After cleaning:\n",
      " Age                       object\n",
      "pap results                int32\n",
      "microprganisms present     int32\n",
      "dtype: object\n"
     ]
    }
   ],
   "source": [
    "# Replace '-' and other invalid values with NaN, then drop or fill them\n",
    "df.replace(\"-\", np.nan, inplace=True)\n",
    "df.dropna(inplace=True)  # Drop rows with missing values (or use fillna)\n",
    "\n",
    "# Convert categorical columns to numeric using Label Encoding\n",
    "label_encoders = {}\n",
    "for col in [\"pap results\", \"microprganisms present\"]:  \n",
    "    le = LabelEncoder()\n",
    "    df[col] = le.fit_transform(df[col])\n",
    "    label_encoders[col] = le  \n",
    "\n",
    "# Define features (X) and target (y)\n",
    "X = df[[\"Age\", \"pap results\", \"microprganisms present\"]]\n",
    "y = df[\"OHR GENOTYPE\"]\n",
    "\n",
    "# Ensure all features are numeric\n",
    "print(\"After cleaning:\\n\", X.dtypes)\n"
   ]
  },
  {
   "cell_type": "code",
   "execution_count": 77,
   "id": "29b0c0da-d11c-4cf7-95eb-bb1c403ead53",
   "metadata": {},
   "outputs": [
    {
     "name": "stdout",
     "output_type": "stream",
     "text": [
      "Original class distribution: Counter({'59': 11, '56': 4, '39': 3, '33': 3, '58': 2, '31': 2, '52,35': 1, '16': 1, '66,58,51,16,33,56,31': 1, '18': 1, '58,59': 1, '66,51': 1, '58,16': 1, '35': 1, '35,18': 1, '45,59': 1, '45': 1, '16,52,18,31': 1, '66,35': 1, '51': 1, '59,16': 1})\n"
     ]
    }
   ],
   "source": [
    "from collections import Counter\n",
    "print(\"Original class distribution:\", Counter(y_train))"
   ]
  },
  {
   "cell_type": "code",
   "execution_count": 95,
   "id": "a2207d18-d96d-43be-acca-8be0cea145be",
   "metadata": {},
   "outputs": [],
   "source": [
    "from imblearn.over_sampling import BorderlineSMOTE\n",
    "\n",
    "borderline_smote = BorderlineSMOTE(k_neighbors=1, random_state=42)\n",
    "X_resampled, y_resampled = borderline_smote.fit_resample(X_train, y_train)"
   ]
  },
  {
   "cell_type": "code",
   "execution_count": 101,
   "id": "fb2d8dec-2b47-49b4-adea-f356296ccbbf",
   "metadata": {},
   "outputs": [],
   "source": [
    "from imblearn.over_sampling import BorderlineSMOTE\n",
    "\n",
    "borderline_smote = BorderlineSMOTE(k_neighbors=1, random_state=42)\n",
    "X_resampled, y_resampled = borderline_smote.fit_resample(X_train, y_train)"
   ]
  },
  {
   "cell_type": "code",
   "execution_count": 105,
   "id": "9b94393a-eb9b-4c58-b6df-464777b6ba5b",
   "metadata": {},
   "outputs": [],
   "source": [
    "\n",
    "\n",
    "from imblearn.over_sampling import SMOTE\n",
    "\n",
    "# Import necessary libraries\n",
    "from imblearn.over_sampling import SMOTE\n",
    "from sklearn.model_selection import train_test_split\n",
    "\n",
    "# as X and y are defined\n",
    "smote = SMOTE(sampling_strategy='auto', k_neighbors=1, random_state=42)  # Reduce k_neighbors if needed\n",
    "X_resampled, y_resampled = smote.fit_resample(X, y)"
   ]
  },
  {
   "cell_type": "code",
   "execution_count": 109,
   "id": "de3d0798-1daf-4820-89d0-359c4a82cb1d",
   "metadata": {},
   "outputs": [],
   "source": [
    "# Standardize the features\n",
    "scaler = StandardScaler()\n",
    "X_resampled = scaler.fit_transform(X_resampled)"
   ]
  },
  {
   "cell_type": "code",
   "execution_count": 111,
   "id": "d0b55c95-7874-4c85-821a-b6c87b451f33",
   "metadata": {},
   "outputs": [],
   "source": [
    "# Split dataset into training and testing sets\n",
    "X_train, X_test, y_train, y_test = train_test_split(X_resampled, y_resampled, test_size=0.2, random_state=42)\n"
   ]
  },
  {
   "cell_type": "code",
   "execution_count": 113,
   "id": "76675333-b769-4f7c-964d-20996ec02f3f",
   "metadata": {},
   "outputs": [],
   "source": [
    "# Initialize models\n",
    "models = {\n",
    "    \"Random Forest\": RandomForestClassifier(n_estimators=200, random_state=42),\n",
    "    \"Gradient Boosting\": GradientBoostingClassifier(n_estimators=200, random_state=42),\n",
    "    \"Neural Network\": MLPClassifier(hidden_layer_sizes=(100, 50), max_iter=1000, random_state=42)\n",
    "}\n"
   ]
  },
  {
   "cell_type": "code",
   "execution_count": 115,
   "id": "1d31ad56-b2d7-40fe-a82c-f97888e6046d",
   "metadata": {},
   "outputs": [
    {
     "name": "stdout",
     "output_type": "stream",
     "text": [
      "Random Forest Accuracy: 0.90\n",
      "Classification Report:\n",
      "                      precision    recall  f1-score   support\n",
      "\n",
      "                  16       1.00      1.00      1.00         5\n",
      "         16,52,18,31       1.00      1.00      1.00         2\n",
      "                  18       1.00      1.00      1.00         3\n",
      "                  31       1.00      1.00      1.00         5\n",
      "                  33       1.00      0.60      0.75         5\n",
      "               35,18       0.00      0.00      0.00         0\n",
      "                  39       1.00      0.25      0.40         4\n",
      "                  45       1.00      1.00      1.00         2\n",
      "               45,59       1.00      1.00      1.00         7\n",
      "                  51       1.00      1.00      1.00         3\n",
      "               52,35       1.00      1.00      1.00         3\n",
      "                  56       0.00      0.00      0.00         1\n",
      "                  58       0.40      1.00      0.57         2\n",
      "               58,16       1.00      1.00      1.00         4\n",
      "      58,16,52,18,31       1.00      1.00      1.00         1\n",
      "         58,16,52,31       0.50      1.00      0.67         1\n",
      "               58,59       1.00      1.00      1.00         3\n",
      "                  59       0.00      0.00      0.00         1\n",
      "               59,16       1.00      1.00      1.00         4\n",
      "                  66       1.00      1.00      1.00         3\n",
      "               66,35       1.00      1.00      1.00         2\n",
      "               66,51       0.60      1.00      0.75         3\n",
      "   66,58,16,52,18,31       1.00      1.00      1.00         3\n",
      "66,58,51,16,33,56,31       1.00      1.00      1.00         3\n",
      "\n",
      "            accuracy                           0.90        70\n",
      "           macro avg       0.81      0.83      0.80        70\n",
      "        weighted avg       0.93      0.90      0.89        70\n",
      "\n",
      "--------------------------------------------------\n"
     ]
    },
    {
     "name": "stderr",
     "output_type": "stream",
     "text": [
      "C:\\Users\\COMPAQ\\anaconda3\\Lib\\site-packages\\sklearn\\metrics\\_classification.py:1531: UndefinedMetricWarning: Precision is ill-defined and being set to 0.0 in labels with no predicted samples. Use `zero_division` parameter to control this behavior.\n",
      "  _warn_prf(average, modifier, f\"{metric.capitalize()} is\", len(result))\n",
      "C:\\Users\\COMPAQ\\anaconda3\\Lib\\site-packages\\sklearn\\metrics\\_classification.py:1531: UndefinedMetricWarning: Recall is ill-defined and being set to 0.0 in labels with no true samples. Use `zero_division` parameter to control this behavior.\n",
      "  _warn_prf(average, modifier, f\"{metric.capitalize()} is\", len(result))\n",
      "C:\\Users\\COMPAQ\\anaconda3\\Lib\\site-packages\\sklearn\\metrics\\_classification.py:1531: UndefinedMetricWarning: Precision is ill-defined and being set to 0.0 in labels with no predicted samples. Use `zero_division` parameter to control this behavior.\n",
      "  _warn_prf(average, modifier, f\"{metric.capitalize()} is\", len(result))\n",
      "C:\\Users\\COMPAQ\\anaconda3\\Lib\\site-packages\\sklearn\\metrics\\_classification.py:1531: UndefinedMetricWarning: Recall is ill-defined and being set to 0.0 in labels with no true samples. Use `zero_division` parameter to control this behavior.\n",
      "  _warn_prf(average, modifier, f\"{metric.capitalize()} is\", len(result))\n",
      "C:\\Users\\COMPAQ\\anaconda3\\Lib\\site-packages\\sklearn\\metrics\\_classification.py:1531: UndefinedMetricWarning: Precision is ill-defined and being set to 0.0 in labels with no predicted samples. Use `zero_division` parameter to control this behavior.\n",
      "  _warn_prf(average, modifier, f\"{metric.capitalize()} is\", len(result))\n",
      "C:\\Users\\COMPAQ\\anaconda3\\Lib\\site-packages\\sklearn\\metrics\\_classification.py:1531: UndefinedMetricWarning: Recall is ill-defined and being set to 0.0 in labels with no true samples. Use `zero_division` parameter to control this behavior.\n",
      "  _warn_prf(average, modifier, f\"{metric.capitalize()} is\", len(result))\n"
     ]
    },
    {
     "name": "stdout",
     "output_type": "stream",
     "text": [
      "Gradient Boosting Accuracy: 0.91\n",
      "Classification Report:\n",
      "                      precision    recall  f1-score   support\n",
      "\n",
      "                  16       1.00      1.00      1.00         5\n",
      "         16,52,18,31       1.00      1.00      1.00         2\n",
      "                  18       1.00      1.00      1.00         3\n",
      "                  31       1.00      1.00      1.00         5\n",
      "                  33       1.00      0.60      0.75         5\n",
      "                  39       0.50      0.25      0.33         4\n",
      "                  45       1.00      1.00      1.00         2\n",
      "               45,59       1.00      1.00      1.00         7\n",
      "                  51       1.00      1.00      1.00         3\n",
      "               52,35       1.00      1.00      1.00         3\n",
      "                  56       0.00      0.00      0.00         1\n",
      "                  58       0.40      1.00      0.57         2\n",
      "               58,16       1.00      1.00      1.00         4\n",
      "      58,16,52,18,31       1.00      1.00      1.00         1\n",
      "         58,16,52,31       0.50      1.00      0.67         1\n",
      "               58,59       1.00      1.00      1.00         3\n",
      "                  59       1.00      1.00      1.00         1\n",
      "               59,16       1.00      1.00      1.00         4\n",
      "                  66       1.00      1.00      1.00         3\n",
      "               66,35       1.00      1.00      1.00         2\n",
      "               66,51       0.75      1.00      0.86         3\n",
      "   66,58,16,52,18,31       1.00      1.00      1.00         3\n",
      "66,58,51,16,33,56,31       1.00      1.00      1.00         3\n",
      "\n",
      "            accuracy                           0.91        70\n",
      "           macro avg       0.88      0.91      0.88        70\n",
      "        weighted avg       0.92      0.91      0.91        70\n",
      "\n",
      "--------------------------------------------------\n"
     ]
    },
    {
     "name": "stderr",
     "output_type": "stream",
     "text": [
      "C:\\Users\\COMPAQ\\anaconda3\\Lib\\site-packages\\sklearn\\metrics\\_classification.py:1531: UndefinedMetricWarning: Precision is ill-defined and being set to 0.0 in labels with no predicted samples. Use `zero_division` parameter to control this behavior.\n",
      "  _warn_prf(average, modifier, f\"{metric.capitalize()} is\", len(result))\n",
      "C:\\Users\\COMPAQ\\anaconda3\\Lib\\site-packages\\sklearn\\metrics\\_classification.py:1531: UndefinedMetricWarning: Precision is ill-defined and being set to 0.0 in labels with no predicted samples. Use `zero_division` parameter to control this behavior.\n",
      "  _warn_prf(average, modifier, f\"{metric.capitalize()} is\", len(result))\n",
      "C:\\Users\\COMPAQ\\anaconda3\\Lib\\site-packages\\sklearn\\metrics\\_classification.py:1531: UndefinedMetricWarning: Precision is ill-defined and being set to 0.0 in labels with no predicted samples. Use `zero_division` parameter to control this behavior.\n",
      "  _warn_prf(average, modifier, f\"{metric.capitalize()} is\", len(result))\n"
     ]
    },
    {
     "name": "stdout",
     "output_type": "stream",
     "text": [
      "Neural Network Accuracy: 0.87\n",
      "Classification Report:\n",
      "                      precision    recall  f1-score   support\n",
      "\n",
      "                  16       1.00      1.00      1.00         5\n",
      "         16,52,18,31       1.00      1.00      1.00         2\n",
      "                  18       1.00      1.00      1.00         3\n",
      "                  31       1.00      0.60      0.75         5\n",
      "                  33       1.00      0.60      0.75         5\n",
      "               35,18       0.00      0.00      0.00         0\n",
      "                  39       1.00      0.25      0.40         4\n",
      "                  45       1.00      1.00      1.00         2\n",
      "               45,59       1.00      1.00      1.00         7\n",
      "                  51       1.00      1.00      1.00         3\n",
      "               52,35       1.00      1.00      1.00         3\n",
      "                  56       0.00      0.00      0.00         1\n",
      "                  58       0.40      1.00      0.57         2\n",
      "               58,16       1.00      1.00      1.00         4\n",
      "      58,16,52,18,31       1.00      1.00      1.00         1\n",
      "         58,16,52,31       0.50      1.00      0.67         1\n",
      "               58,59       1.00      1.00      1.00         3\n",
      "                  59       0.00      0.00      0.00         1\n",
      "               59,16       1.00      1.00      1.00         4\n",
      "                  66       1.00      1.00      1.00         3\n",
      "               66,35       1.00      1.00      1.00         2\n",
      "               66,51       0.60      1.00      0.75         3\n",
      "   66,58,16,52,18,31       1.00      1.00      1.00         3\n",
      "66,58,51,16,33,56,31       1.00      1.00      1.00         3\n",
      "\n",
      "            accuracy                           0.87        70\n",
      "           macro avg       0.81      0.81      0.79        70\n",
      "        weighted avg       0.93      0.87      0.87        70\n",
      "\n",
      "--------------------------------------------------\n"
     ]
    },
    {
     "name": "stderr",
     "output_type": "stream",
     "text": [
      "C:\\Users\\COMPAQ\\anaconda3\\Lib\\site-packages\\sklearn\\metrics\\_classification.py:1531: UndefinedMetricWarning: Precision is ill-defined and being set to 0.0 in labels with no predicted samples. Use `zero_division` parameter to control this behavior.\n",
      "  _warn_prf(average, modifier, f\"{metric.capitalize()} is\", len(result))\n",
      "C:\\Users\\COMPAQ\\anaconda3\\Lib\\site-packages\\sklearn\\metrics\\_classification.py:1531: UndefinedMetricWarning: Recall is ill-defined and being set to 0.0 in labels with no true samples. Use `zero_division` parameter to control this behavior.\n",
      "  _warn_prf(average, modifier, f\"{metric.capitalize()} is\", len(result))\n",
      "C:\\Users\\COMPAQ\\anaconda3\\Lib\\site-packages\\sklearn\\metrics\\_classification.py:1531: UndefinedMetricWarning: Precision is ill-defined and being set to 0.0 in labels with no predicted samples. Use `zero_division` parameter to control this behavior.\n",
      "  _warn_prf(average, modifier, f\"{metric.capitalize()} is\", len(result))\n",
      "C:\\Users\\COMPAQ\\anaconda3\\Lib\\site-packages\\sklearn\\metrics\\_classification.py:1531: UndefinedMetricWarning: Recall is ill-defined and being set to 0.0 in labels with no true samples. Use `zero_division` parameter to control this behavior.\n",
      "  _warn_prf(average, modifier, f\"{metric.capitalize()} is\", len(result))\n",
      "C:\\Users\\COMPAQ\\anaconda3\\Lib\\site-packages\\sklearn\\metrics\\_classification.py:1531: UndefinedMetricWarning: Precision is ill-defined and being set to 0.0 in labels with no predicted samples. Use `zero_division` parameter to control this behavior.\n",
      "  _warn_prf(average, modifier, f\"{metric.capitalize()} is\", len(result))\n",
      "C:\\Users\\COMPAQ\\anaconda3\\Lib\\site-packages\\sklearn\\metrics\\_classification.py:1531: UndefinedMetricWarning: Recall is ill-defined and being set to 0.0 in labels with no true samples. Use `zero_division` parameter to control this behavior.\n",
      "  _warn_prf(average, modifier, f\"{metric.capitalize()} is\", len(result))\n"
     ]
    }
   ],
   "source": [
    "# Train and evaluate each model\n",
    "for name, model in models.items():\n",
    "    model.fit(X_train, y_train)\n",
    "    y_pred = model.predict(X_test)\n",
    "    accuracy = accuracy_score(y_test, y_pred)\n",
    "    print(f\"{name} Accuracy: {accuracy:.2f}\")\n",
    "    print(\"Classification Report:\")\n",
    "    print(classification_report(y_test, y_pred))\n",
    "    print(\"-\" * 50)\n"
   ]
  },
  {
   "cell_type": "code",
   "execution_count": null,
   "id": "0e6c939e-f14c-4cf6-ad46-547dbd48e977",
   "metadata": {},
   "outputs": [],
   "source": []
  }
 ],
 "metadata": {
  "kernelspec": {
   "display_name": "Python [conda env:base] *",
   "language": "python",
   "name": "conda-base-py"
  },
  "language_info": {
   "codemirror_mode": {
    "name": "ipython",
    "version": 3
   },
   "file_extension": ".py",
   "mimetype": "text/x-python",
   "name": "python",
   "nbconvert_exporter": "python",
   "pygments_lexer": "ipython3",
   "version": "3.12.7"
  }
 },
 "nbformat": 4,
 "nbformat_minor": 5
}
